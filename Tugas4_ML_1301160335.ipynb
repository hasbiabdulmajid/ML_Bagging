{
 "cells": [
  {
   "cell_type": "code",
   "execution_count": 4,
   "metadata": {},
   "outputs": [],
   "source": [
    "import csv\n",
    "import numpy as np\n",
    "import pandas as pd\n",
    "import time\n",
    "import random\n",
    "from statistics import mode\n",
    "from sklearn.naive_bayes import GaussianNB"
   ]
  },
  {
   "cell_type": "code",
   "execution_count": 5,
   "metadata": {},
   "outputs": [],
   "source": [
    "d_Train = np.genfromtxt('TrainsetTugas4ML.csv', delimiter=',', dtype=None, skip_header=1, names=['X1','X2','Class'])\n",
    "d_Test = np.genfromtxt('TestsetTugas4ML.csv', delimiter=',', dtype=None, skip_header=1)"
   ]
  },
  {
   "cell_type": "code",
   "execution_count": 12,
   "metadata": {},
   "outputs": [],
   "source": [
    "# menambahkan label pada data\n",
    "def addLabel(data):\n",
    "    kolom = ['X1','X2', 'Class']\n",
    "    index = []\n",
    "    for i in range(len(data)):\n",
    "        index.append(str(i))\n",
    "    temp = pd.DataFrame(data, columns=kolom,index = index)\n",
    "    return temp"
   ]
  },
  {
   "cell_type": "code",
   "execution_count": 43,
   "metadata": {},
   "outputs": [],
   "source": [
    "# Fungsi untuk melakukan proses pembuatan model bootstrap dan melakukan prediksi menggunakan naivebayes\n",
    "def bootstrapFunc(iteration):\n",
    "    for i in range(iteration):\n",
    "        tabel = dataLatih.sample(190)\n",
    "        tmp = GaussianNB()\n",
    "        tmp.fit(dataLatih[atribut].values,dataLatih['Class'])\n",
    "        tmp_prediksi = tmp.predict(dataUji[atribut])\n",
    "        prediksi.append(tmp_prediksi)\n",
    "        "
   ]
  },
  {
   "cell_type": "code",
   "execution_count": 32,
   "metadata": {},
   "outputs": [],
   "source": [
    "def tambahElemen(x,y):\n",
    "    for j in range (300) :\n",
    "        elemen = prediksi[j][y]\n",
    "        x.append(elemen)"
   ]
  },
  {
   "cell_type": "code",
   "execution_count": 44,
   "metadata": {},
   "outputs": [],
   "source": [
    "dataLatih = addLabel(d_Train)\n",
    "dataUji = addLabel(d_Test)\n",
    "bootstrap = 300\n",
    "prediksi = []\n",
    "atribut = ['X1','X2']\n",
    "bootstrapFunc(bootstrap)\n",
    "# print(prediksi)"
   ]
  },
  {
   "cell_type": "code",
   "execution_count": 34,
   "metadata": {},
   "outputs": [
    {
     "name": "stdout",
     "output_type": "stream",
     "text": [
      "[2, 2, 2, 2, 2, 2, 2, 2, 2, 2, 2, 1, 2, 1, 1, 1, 1, 1, 1, 1, 2, 1, 2, 1, 1, 1, 1, 2, 1, 2, 2, 1, 2, 1, 1, 1, 1, 1, 1, 1, 1, 2, 1, 1, 1, 1, 1, 1, 1, 1, 1, 1, 1, 1, 1, 1, 1, 1, 1, 1, 1, 1, 1, 1, 1, 1, 1, 1, 1, 1, 1, 1, 1, 1, 1]\n"
     ]
    }
   ],
   "source": [
    "pred_final = [] # menampung hasil prediksi final\n",
    "tampung = [] # untunk menampung prediksi\n",
    "for i in range(len(prediksi[1])) :\n",
    "        tampung.clear()\n",
    "        tambahElemen(tampung,i)\n",
    "        modus = mode(tampung) #voting\n",
    "        pred_final.append(modus)\n",
    "print(pred_final)\n",
    "pd.DataFrame(pred_final).to_csv(\"TebakanTugas4.csv\",index=False,header=False) #export\n",
    "            \n"
   ]
  }
 ],
 "metadata": {
  "kernelspec": {
   "display_name": "Python 3",
   "language": "python",
   "name": "python3"
  },
  "language_info": {
   "codemirror_mode": {
    "name": "ipython",
    "version": 3
   },
   "file_extension": ".py",
   "mimetype": "text/x-python",
   "name": "python",
   "nbconvert_exporter": "python",
   "pygments_lexer": "ipython3",
   "version": "3.7.0"
  }
 },
 "nbformat": 4,
 "nbformat_minor": 2
}
